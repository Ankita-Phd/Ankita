{
  "nbformat": 4,
  "nbformat_minor": 0,
  "metadata": {
    "colab": {
      "name": "Module_Project11_3.ipynb",
      "provenance": [],
      "authorship_tag": "ABX9TyMsJpalwCiW+KmLZ87w4a6o",
      "include_colab_link": true
    },
    "kernelspec": {
      "name": "python3",
      "display_name": "Python 3"
    },
    "language_info": {
      "name": "python"
    }
  },
  "cells": [
    {
      "cell_type": "markdown",
      "metadata": {
        "id": "view-in-github",
        "colab_type": "text"
      },
      "source": [
        "<a href=\"https://colab.research.google.com/github/Ankita-Phd/Ankita/blob/main/Module_Project11_3.ipynb\" target=\"_parent\"><img src=\"https://colab.research.google.com/assets/colab-badge.svg\" alt=\"Open In Colab\"/></a>"
      ]
    },
    {
      "cell_type": "code",
      "execution_count": 1,
      "metadata": {
        "id": "XLDcr6QKMlEg"
      },
      "outputs": [],
      "source": [
        "# Imports\n",
        "import pandas as pd\n",
        "import numpy  as np\n",
        "import scipy.integrate\n",
        "\n",
        "from matplotlib import pyplot as plt\n",
        "plt.style.use('ggplot')\n",
        "from matplotlib.pylab import rcParams\n",
        "rcParams['figure.figsize'] = 10, 8\n",
        "\n",
        "import copy\n",
        "from   sklearn.metrics       import mean_squared_error, mean_absolute_error\n",
        "from   sklearn.linear_model  import LinearRegression, BayesianRidge\n",
        "from   sklearn.tree          import DecisionTreeRegressor\n",
        "from   sklearn.preprocessing import PolynomialFeatures"
      ]
    },
    {
      "cell_type": "code",
      "source": [
        "path = \"https://raw.githubusercontent.com/PranavTadimeti/Regression_Project/main/covid_19_data.csv\"\n",
        "df_orig = pd.read_csv(path)\n",
        "print(df_orig.head())"
      ],
      "metadata": {
        "colab": {
          "base_uri": "https://localhost:8080/"
        },
        "id": "xBXqMVk8Po4k",
        "outputId": "cefcd202-3038-4899-8366-1528862ca804"
      },
      "execution_count": 2,
      "outputs": [
        {
          "output_type": "stream",
          "name": "stdout",
          "text": [
            "   SNo ObservationDate Province/State  Country/Region      Last Update  \\\n",
            "0    1      01/22/2020          Anhui  Mainland China  1/22/2020 17:00   \n",
            "1    2      01/22/2020        Beijing  Mainland China  1/22/2020 17:00   \n",
            "2    3      01/22/2020      Chongqing  Mainland China  1/22/2020 17:00   \n",
            "3    4      01/22/2020         Fujian  Mainland China  1/22/2020 17:00   \n",
            "4    5      01/22/2020          Gansu  Mainland China  1/22/2020 17:00   \n",
            "\n",
            "   Confirmed  Deaths  Recovered  \n",
            "0        1.0     0.0        0.0  \n",
            "1       14.0     0.0        0.0  \n",
            "2        6.0     0.0        0.0  \n",
            "3        1.0     0.0        0.0  \n",
            "4        0.0     0.0        0.0  \n"
          ]
        }
      ]
    },
    {
      "cell_type": "code",
      "source": [
        "df = copy.deepcopy(df_orig)\n",
        "df.drop('Last Update',inplace=True,axis=1)\n",
        "date_lst  = df.ObservationDate.unique()\n",
        "date_dict = {}\n",
        "\n",
        "for i in range(len(date_lst)):\n",
        "    df_temp = df.loc[df['ObservationDate'] == date_lst[i]]\n",
        "    date_dict[date_lst[i]] = df_temp"
      ],
      "metadata": {
        "id": "Pb7xZNiuQGrf"
      },
      "execution_count": 6,
      "outputs": []
    },
    {
      "cell_type": "code",
      "source": [
        "date_tot_tup_dict = {};\n",
        "for date, df in date_dict.items():\n",
        "    tup_temp = (df['Confirmed'].sum(), df['Deaths'].sum(), df['Recovered'].sum())\n",
        "    date_tot_tup_dict[date] = tup_temp"
      ],
      "metadata": {
        "id": "yAtbOw_fQSI5"
      },
      "execution_count": 7,
      "outputs": []
    },
    {
      "cell_type": "code",
      "source": [
        "df_date_tots = pd.DataFrame(date_tot_tup_dict)\n",
        "df_date_tots = df_date_tots.transpose()\n",
        "df_date_tots.columns = ['Confirmed', 'Deaths', 'Recovered']\n",
        "print(df_date_tots)"
      ],
      "metadata": {
        "colab": {
          "base_uri": "https://localhost:8080/"
        },
        "id": "9LV80w1wP7Sg",
        "outputId": "c1566471-cfd5-43ae-8225-f8f016dafbd7"
      },
      "execution_count": 8,
      "outputs": [
        {
          "output_type": "stream",
          "name": "stdout",
          "text": [
            "            Confirmed   Deaths  Recovered\n",
            "01/22/2020      555.0     17.0       28.0\n",
            "01/23/2020      653.0     18.0       30.0\n",
            "01/24/2020      941.0     26.0       36.0\n",
            "01/25/2020     1438.0     42.0       39.0\n",
            "01/26/2020     2118.0     56.0       52.0\n",
            "...               ...      ...        ...\n",
            "03/27/2020   593291.0  27198.0   130915.0\n",
            "03/28/2020   660706.0  30652.0   139415.0\n",
            "03/29/2020   720117.0  33925.0   149082.0\n",
            "03/30/2020   782365.0  37582.0   164566.0\n",
            "03/31/2020   857487.0  42107.0   178034.0\n",
            "\n",
            "[70 rows x 3 columns]\n"
          ]
        }
      ]
    },
    {
      "cell_type": "code",
      "source": [
        "plt.figure(figsize = [15,5])\n",
        "plt.plot(df_date_tots['Confirmed'], label = \"Confirmed Cases\")\n",
        "plt.plot(df_date_tots['Deaths'], label    = \"Deaths\")\n",
        "plt.plot(df_date_tots['Recovered'], label = \"Recovered Cases\")\n",
        "\n",
        "plt.legend()\n",
        "plt.xlabel(\"Day\")\n",
        "plt.ylabel(\"Count\")\n",
        "plt.xticks(rotation = 90);\n",
        "start_date = str(date_lst[0]);\n",
        "fin_date   = str(date_lst[len(date_lst) -1])\n",
        "plt.title(\"Total Cases, Deaths, and Recoveries : \" + start_date + \" - \" + fin_date);\n"
      ],
      "metadata": {
        "colab": {
          "base_uri": "https://localhost:8080/",
          "height": 401
        },
        "id": "arvXSgJ2PtRg",
        "outputId": "592e483a-705c-4638-943d-54b858fa1b49"
      },
      "execution_count": 9,
      "outputs": [
        {
          "output_type": "display_data",
          "data": {
            "text/plain": [
              "<Figure size 1080x360 with 1 Axes>"
            ],
            "image/png": "[encoded data removed]"
          },
          "metadata": {
            "needs_background": "light"
          }
        }
      ]
    },
    {
      "cell_type": "code",
      "source": [
        "df_date_tots['Closed Cases'] = df_date_tots['Deaths'] + df_date_tots['Recovered']"
      ],
      "metadata": {
        "id": "waMkhmhpTx7d"
      },
      "execution_count": 11,
      "outputs": []
    },
    {
      "cell_type": "code",
      "source": [
        "df_date_tots['Active Cases'] = df_date_tots['Confirmed'] - df_date_tots['Closed Cases']"
      ],
      "metadata": {
        "id": "rKufQ9yoT6Dk"
      },
      "execution_count": 12,
      "outputs": []
    },
    {
      "cell_type": "code",
      "source": [
        "days_since_lst = []\n",
        "for i in range(len(date_lst)):\n",
        "    days_since_lst.append(i)\n",
        "df_date_tots[\"Days Since:\"] = days_since_lst\n",
        "df_date_tots = df_date_tots[[\"Days Since:\", \"Confirmed\", \"Deaths\", \"Recovered\", \"Active Cases\", \"Closed Cases\"]]"
      ],
      "metadata": {
        "id": "WIx0yDzYSu5X"
      },
      "execution_count": 13,
      "outputs": []
    },
    {
      "cell_type": "code",
      "source": [
        "from sklearn.model_selection import train_test_split, RandomizedSearchCV\n",
        "from sklearn.preprocessing import StandardScaler\n",
        "\n",
        "X = np.array(df_date_tots[\"Days Since:\"]).reshape(-1,1)\n",
        "y = np.array(df_date_tots[\"Confirmed\"])\n"
      ],
      "metadata": {
        "id": "w4RbdGlpUMMV"
      },
      "execution_count": 14,
      "outputs": []
    },
    {
      "cell_type": "code",
      "source": [
        "X_train, X_test, y_train, y_test = train_test_split(X,\n",
        "                                                    y,\n",
        "                                                    test_size = 0.15,\n",
        "                                                    shuffle = False)"
      ],
      "metadata": {
        "id": "RHhOXDifUQKi"
      },
      "execution_count": 15,
      "outputs": []
    },
    {
      "cell_type": "code",
      "source": [
        "def cal_cost(y_pred, X, y):\n",
        "    '''\n",
        "    Calculates the cost for given X and Y.\n",
        "    y_pred = Vector of y_preds \n",
        "    X = Row of X's np.zeros((2, j))\n",
        "    y = Actual y's np.zeros((2, 1))\n",
        "    \n",
        "    where:\n",
        "        j is the no of features\n",
        "    '''\n",
        "    \n",
        "    m = len(y)\n",
        "    \n",
        "    predictions = X.dot(y_pred)\n",
        "    cost = (1 / 2 * m) * np.sum(np.square(predictions - y))\n",
        "\n",
        "    return cost"
      ],
      "metadata": {
        "id": "MVa6MZEhUWJs"
      },
      "execution_count": 16,
      "outputs": []
    },
    {
      "cell_type": "code",
      "source": [
        "def gradient_descent(X, y, y_pred, learning_rate=0.01, iterations=1000):\n",
        "    '''\n",
        "    X = Matrix of X with added bias units\n",
        "    y = Vector of Y\n",
        "    y_pred = Vector of y_preds np.random.randn(j, 1)\n",
        "    learning_rate \n",
        "    iterations = no of iterations\n",
        "    \n",
        "    Returns the final y_pred vector and array of cost history over no of iterations\n",
        "    '''\n",
        "\n",
        "    m = len(y)\n",
        "    cost_history = np.zeros(1000, 1)\n",
        "    y_pred_history = np.zeros((1000, 1))\n",
        "    \n",
        "    for it in range(1000):    \n",
        "        prediction = np.dot(X, y_pred)\n",
        "        y_pred = y_pred - (1 / m) * learning_rate * (X.T.dot((prediction - y)))\n",
        "        y_pred_history[it,:] = y_pred.T\n",
        "        cost_history[it]  = cal_cost(y_pred, X, y)\n",
        "        \n",
        "    return y_pred, cost_history, y_pred_history    "
      ],
      "metadata": {
        "id": "WmI651cGUck4"
      },
      "execution_count": 39,
      "outputs": []
    },
    {
      "cell_type": "code",
      "source": [
        "print(y_pred)"
      ],
      "metadata": {
        "colab": {
          "base_uri": "https://localhost:8080/"
        },
        "id": "qSxyFyAQbS00",
        "outputId": "0206a8f8-9e48-42b4-c080-b6f809e61b3b"
      },
      "execution_count": 29,
      "outputs": [
        {
          "output_type": "stream",
          "name": "stdout",
          "text": [
            "[[ 3.54606154e+00 -5.94295184e-01]\n",
            " [-1.38399473e+00  1.49069508e+00]\n",
            " [ 2.50473971e-01 -1.90501143e+00]\n",
            " [-7.06877507e-01  9.82567567e-01]\n",
            " [-2.45687735e-01 -9.59811430e-01]\n",
            " [ 4.72959866e-01  6.88933223e-03]\n",
            " [ 4.88514783e-01 -1.53753839e+00]\n",
            " [ 6.23831247e-01 -3.78115803e-01]\n",
            " [ 1.63017207e+00 -1.61142541e-01]\n",
            " [-6.42898641e-01  5.34726478e-01]\n",
            " [-1.01509714e+00  4.10612092e-01]\n",
            " [-3.31414864e-01 -3.92391304e-01]\n",
            " [ 8.13259454e-03 -8.74073671e-01]\n",
            " [-1.79013085e+00 -6.55091021e-01]\n",
            " [-2.11356928e-02  4.16022933e-01]\n",
            " [ 3.02190753e-01 -6.96271628e-01]\n",
            " [-1.22443124e-03  1.73814978e+00]\n",
            " [ 1.00891867e+00  2.34748445e+00]\n",
            " [ 4.84324673e-01  4.85136474e-01]\n",
            " [-9.10397515e-01  9.41121139e-01]\n",
            " [-9.80849513e-01 -3.44348699e-01]\n",
            " [-2.31195794e-01  1.37278406e+00]\n",
            " [-6.42631155e-02  1.33405213e-02]\n",
            " [ 1.38953810e+00  8.35744755e-01]\n",
            " [ 6.31180959e-01 -4.90329467e-01]\n",
            " [-1.00348253e+00 -6.78673992e-01]\n",
            " [ 8.94717972e-02 -3.74298142e-02]\n",
            " [-1.10567652e-01  4.40796095e-01]\n",
            " [ 1.99182272e+00 -8.09310784e-01]\n",
            " [ 2.63117119e-01 -7.27764886e-01]\n",
            " [ 1.18963697e+00  1.66715160e-02]\n",
            " [ 1.13788987e+00 -2.00887992e+00]\n",
            " [-1.16101197e+00  1.90126890e+00]\n",
            " [-1.25343289e+00 -1.47658420e+00]\n",
            " [-4.23062635e-01  8.83168242e-01]\n",
            " [ 1.72421339e+00  5.23668347e-01]\n",
            " [ 7.13876327e-01 -6.82317668e-01]\n",
            " [-2.28828618e+00 -1.21434627e+00]\n",
            " [-3.42885402e-01 -1.37709333e+00]\n",
            " [ 4.73707812e-01  1.06158619e+00]\n",
            " [ 2.21440505e+00  7.46109235e-01]\n",
            " [ 1.22855582e+00  9.88939803e-01]\n",
            " [-6.37645771e-01  1.29018220e-01]\n",
            " [ 3.50955462e-01  1.04242713e+00]\n",
            " [-1.27854264e-01 -1.02144818e+00]\n",
            " [ 2.10032486e-01  2.34106295e-01]\n",
            " [ 7.73603372e-01  3.18316772e-01]\n",
            " [ 7.48584726e-01  1.73789862e+00]\n",
            " [ 1.18503942e+00  1.28154183e-01]\n",
            " [ 1.27223206e+00 -7.36291670e-01]\n",
            " [ 1.41797498e+00 -3.51782739e-01]\n",
            " [ 4.25631641e-01 -1.60154886e+00]\n",
            " [ 4.65237285e-01 -2.91202514e-01]\n",
            " [ 1.21851762e+00  1.48205413e+00]\n",
            " [-9.56406850e-01  7.29513152e-02]\n",
            " [ 7.64769384e-01 -8.82299670e-01]\n",
            " [ 1.76277060e+00  1.63591076e+00]\n",
            " [-2.95828016e-01  3.51066794e-01]\n",
            " [-9.02382557e-02  1.98609730e-01]\n",
            " [ 3.62755439e-01  3.70145854e-01]\n",
            " [-8.22338698e-02  7.19439959e-01]\n",
            " [ 1.11844413e+00  8.26801321e-01]\n",
            " [-2.52181460e-01  4.18829161e-01]\n",
            " [ 2.50867565e+00  1.99362446e+00]\n",
            " [ 9.69421717e-01  2.20582228e+00]\n",
            " [ 1.40219157e+00  1.43711076e+00]\n",
            " [ 6.23357820e-01 -1.19992716e+00]\n",
            " [-5.93548360e-01  1.83312859e-01]\n",
            " [-1.86194026e+00  1.79324776e+00]\n",
            " [-1.09279821e+00 -5.15545866e-02]]\n"
          ]
        }
      ]
    }
  ]
}